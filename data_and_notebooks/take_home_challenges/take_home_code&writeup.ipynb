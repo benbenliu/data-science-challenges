{
 "cells": [
  {
   "cell_type": "code",
   "execution_count": 1,
   "metadata": {
    "collapsed": true
   },
   "outputs": [],
   "source": [
    "import pandas as pd\n",
    "import numpy as np\n",
    "import matplotlib.pyplot as plt\n",
    "from datetime import date, datetime, timedelta\n",
    "from scipy.stats import ttest_ind\n",
    "from sklearn.ensemble import RandomForestClassifier\n",
    "from sklearn import preprocessing"
   ]
  },
  {
   "cell_type": "markdown",
   "metadata": {},
   "source": [
    "Summary:\n",
    "    \n",
    "    For this task, by manipulating the two data sets, the significance of the treatment effect was investigated, which turned out to be non-significant for a general user group. However, it does make some difference for different users with different first_inquiry_message length.\n",
    "    The findings, suggestions and discussion can be found at the bottom, in Conclusion section"
   ]
  },
  {
   "cell_type": "code",
   "execution_count": 2,
   "metadata": {
    "collapsed": true
   },
   "outputs": [],
   "source": [
    "%matplotlib inline"
   ]
  },
  {
   "cell_type": "code",
   "execution_count": 3,
   "metadata": {
    "collapsed": false
   },
   "outputs": [],
   "source": [
    "#helper functions\n",
    "def timeSeq(s_year,s_month,s_day, e_year, e_month, e_day):\n",
    "    \"\"\"return list of dates\"\"\"\n",
    "    \n",
    "    dt = datetime(s_year,s_month,s_day)\n",
    "    end = datetime(e_year,e_month,e_day)\n",
    "    \n",
    "    step = timedelta(days = 1)\n",
    "\n",
    "    dates = []\n",
    "    \n",
    "    while dt < end:\n",
    "        dates.append(dt.strftime('%Y-%m-%d'))\n",
    "        dt += step\n",
    "    return dates\n",
    "\n",
    "def check_nan(data):\n",
    "    for c in data.columns:\n",
    "        if np.sum(pd.isnull(data[c])) > 0:\n",
    "            print c,'has', np.sum(pd.isnull(data[c])),'missing values'"
   ]
  },
  {
   "cell_type": "markdown",
   "metadata": {},
   "source": [
    "# Read and check the data set"
   ]
  },
  {
   "cell_type": "code",
   "execution_count": 4,
   "metadata": {
    "collapsed": true
   },
   "outputs": [],
   "source": [
    "assignments = pd.read_csv('assignments.csv')\n",
    "contacts = pd.read_csv('contacts.csv')  "
   ]
  },
  {
   "cell_type": "code",
   "execution_count": 5,
   "metadata": {
    "collapsed": false
   },
   "outputs": [
    {
     "data": {
      "text/html": [
       "<div>\n",
       "<table border=\"1\" class=\"dataframe\">\n",
       "  <thead>\n",
       "    <tr style=\"text-align: right;\">\n",
       "      <th></th>\n",
       "      <th>id_user</th>\n",
       "      <th>ab</th>\n",
       "    </tr>\n",
       "  </thead>\n",
       "  <tbody>\n",
       "    <tr>\n",
       "      <th>0</th>\n",
       "      <td>f966752c-8533-48b2-af6f-8c6797d2b247</td>\n",
       "      <td>treatment</td>\n",
       "    </tr>\n",
       "    <tr>\n",
       "      <th>1</th>\n",
       "      <td>873f93fb-234c-4cfb-83c7-27ff0e582a8e</td>\n",
       "      <td>treatment</td>\n",
       "    </tr>\n",
       "  </tbody>\n",
       "</table>\n",
       "</div>"
      ],
      "text/plain": [
       "                                id_user         ab\n",
       "0  f966752c-8533-48b2-af6f-8c6797d2b247  treatment\n",
       "1  873f93fb-234c-4cfb-83c7-27ff0e582a8e  treatment"
      ]
     },
     "execution_count": 5,
     "metadata": {},
     "output_type": "execute_result"
    }
   ],
   "source": [
    "assignments.head(2)"
   ]
  },
  {
   "cell_type": "code",
   "execution_count": 6,
   "metadata": {
    "collapsed": false
   },
   "outputs": [
    {
     "data": {
      "text/html": [
       "<div>\n",
       "<table border=\"1\" class=\"dataframe\">\n",
       "  <thead>\n",
       "    <tr style=\"text-align: right;\">\n",
       "      <th></th>\n",
       "      <th>id_guest</th>\n",
       "      <th>id_host</th>\n",
       "      <th>id_listing</th>\n",
       "      <th>ts_interaction_first</th>\n",
       "      <th>ts_accepted_at_first</th>\n",
       "      <th>m_first_message_length</th>\n",
       "    </tr>\n",
       "  </thead>\n",
       "  <tbody>\n",
       "    <tr>\n",
       "      <th>0</th>\n",
       "      <td>f966752c-8533-48b2-af6f-8c6797d2b247</td>\n",
       "      <td>4405ab66-1c68-449b-abd9-1ad1892a6c4d</td>\n",
       "      <td>fe07e0c4-c317-44bc-a82d-5b599a248049</td>\n",
       "      <td>1/1/13 23:04</td>\n",
       "      <td>NaN</td>\n",
       "      <td>230.0</td>\n",
       "    </tr>\n",
       "    <tr>\n",
       "      <th>1</th>\n",
       "      <td>873f93fb-234c-4cfb-83c7-27ff0e582a8e</td>\n",
       "      <td>aa41b57b-e29f-4c95-bf27-48f27519e419</td>\n",
       "      <td>d47717da-315a-42c2-8888-9b7d4bea8829</td>\n",
       "      <td>1/2/13 0:21</td>\n",
       "      <td>NaN</td>\n",
       "      <td>98.0</td>\n",
       "    </tr>\n",
       "  </tbody>\n",
       "</table>\n",
       "</div>"
      ],
      "text/plain": [
       "                               id_guest                               id_host  \\\n",
       "0  f966752c-8533-48b2-af6f-8c6797d2b247  4405ab66-1c68-449b-abd9-1ad1892a6c4d   \n",
       "1  873f93fb-234c-4cfb-83c7-27ff0e582a8e  aa41b57b-e29f-4c95-bf27-48f27519e419   \n",
       "\n",
       "                             id_listing ts_interaction_first  \\\n",
       "0  fe07e0c4-c317-44bc-a82d-5b599a248049         1/1/13 23:04   \n",
       "1  d47717da-315a-42c2-8888-9b7d4bea8829          1/2/13 0:21   \n",
       "\n",
       "  ts_accepted_at_first  m_first_message_length  \n",
       "0                  NaN                   230.0  \n",
       "1                  NaN                    98.0  "
      ]
     },
     "execution_count": 6,
     "metadata": {},
     "output_type": "execute_result"
    }
   ],
   "source": [
    "contacts.head(2)"
   ]
  },
  {
   "cell_type": "code",
   "execution_count": 7,
   "metadata": {
    "collapsed": false
   },
   "outputs": [
    {
     "data": {
      "text/html": [
       "<div>\n",
       "<table border=\"1\" class=\"dataframe\">\n",
       "  <thead>\n",
       "    <tr style=\"text-align: right;\">\n",
       "      <th></th>\n",
       "      <th>id_user</th>\n",
       "      <th>ab</th>\n",
       "    </tr>\n",
       "  </thead>\n",
       "  <tbody>\n",
       "    <tr>\n",
       "      <th>count</th>\n",
       "      <td>10000</td>\n",
       "      <td>10000</td>\n",
       "    </tr>\n",
       "    <tr>\n",
       "      <th>unique</th>\n",
       "      <td>9094</td>\n",
       "      <td>2</td>\n",
       "    </tr>\n",
       "    <tr>\n",
       "      <th>top</th>\n",
       "      <td>ae290fb1-f0ce-4589-908c-d74525f0bc78</td>\n",
       "      <td>control</td>\n",
       "    </tr>\n",
       "    <tr>\n",
       "      <th>freq</th>\n",
       "      <td>7</td>\n",
       "      <td>5007</td>\n",
       "    </tr>\n",
       "  </tbody>\n",
       "</table>\n",
       "</div>"
      ],
      "text/plain": [
       "                                     id_user       ab\n",
       "count                                  10000    10000\n",
       "unique                                  9094        2\n",
       "top     ae290fb1-f0ce-4589-908c-d74525f0bc78  control\n",
       "freq                                       7     5007"
      ]
     },
     "execution_count": 7,
     "metadata": {},
     "output_type": "execute_result"
    }
   ],
   "source": [
    "assignments.describe(include = 'all')"
   ]
  },
  {
   "cell_type": "code",
   "execution_count": 9,
   "metadata": {
    "collapsed": false
   },
   "outputs": [
    {
     "data": {
      "text/html": [
       "<div>\n",
       "<table border=\"1\" class=\"dataframe\">\n",
       "  <thead>\n",
       "    <tr style=\"text-align: right;\">\n",
       "      <th></th>\n",
       "      <th>id_guest</th>\n",
       "      <th>id_host</th>\n",
       "      <th>id_listing</th>\n",
       "      <th>ts_interaction_first</th>\n",
       "      <th>ts_accepted_at_first</th>\n",
       "      <th>m_first_message_length</th>\n",
       "    </tr>\n",
       "  </thead>\n",
       "  <tbody>\n",
       "    <tr>\n",
       "      <th>count</th>\n",
       "      <td>10000</td>\n",
       "      <td>10000</td>\n",
       "      <td>10000</td>\n",
       "      <td>10000</td>\n",
       "      <td>3363</td>\n",
       "      <td>9883.000000</td>\n",
       "    </tr>\n",
       "    <tr>\n",
       "      <th>unique</th>\n",
       "      <td>9094</td>\n",
       "      <td>3669</td>\n",
       "      <td>4449</td>\n",
       "      <td>9851</td>\n",
       "      <td>2171</td>\n",
       "      <td>NaN</td>\n",
       "    </tr>\n",
       "    <tr>\n",
       "      <th>top</th>\n",
       "      <td>ae290fb1-f0ce-4589-908c-d74525f0bc78</td>\n",
       "      <td>589ba78b-cd36-4232-9cdd-e39f0acf08f2</td>\n",
       "      <td>3a5681ef-1121-4f0b-a498-00efe43a9b5e</td>\n",
       "      <td>4/1/13 15:03</td>\n",
       "      <td>17:45.0</td>\n",
       "      <td>NaN</td>\n",
       "    </tr>\n",
       "    <tr>\n",
       "      <th>freq</th>\n",
       "      <td>7</td>\n",
       "      <td>66</td>\n",
       "      <td>32</td>\n",
       "      <td>3</td>\n",
       "      <td>5</td>\n",
       "      <td>NaN</td>\n",
       "    </tr>\n",
       "    <tr>\n",
       "      <th>mean</th>\n",
       "      <td>NaN</td>\n",
       "      <td>NaN</td>\n",
       "      <td>NaN</td>\n",
       "      <td>NaN</td>\n",
       "      <td>NaN</td>\n",
       "      <td>324.458666</td>\n",
       "    </tr>\n",
       "    <tr>\n",
       "      <th>std</th>\n",
       "      <td>NaN</td>\n",
       "      <td>NaN</td>\n",
       "      <td>NaN</td>\n",
       "      <td>NaN</td>\n",
       "      <td>NaN</td>\n",
       "      <td>233.561432</td>\n",
       "    </tr>\n",
       "    <tr>\n",
       "      <th>min</th>\n",
       "      <td>NaN</td>\n",
       "      <td>NaN</td>\n",
       "      <td>NaN</td>\n",
       "      <td>NaN</td>\n",
       "      <td>NaN</td>\n",
       "      <td>0.000000</td>\n",
       "    </tr>\n",
       "    <tr>\n",
       "      <th>25%</th>\n",
       "      <td>NaN</td>\n",
       "      <td>NaN</td>\n",
       "      <td>NaN</td>\n",
       "      <td>NaN</td>\n",
       "      <td>NaN</td>\n",
       "      <td>NaN</td>\n",
       "    </tr>\n",
       "    <tr>\n",
       "      <th>50%</th>\n",
       "      <td>NaN</td>\n",
       "      <td>NaN</td>\n",
       "      <td>NaN</td>\n",
       "      <td>NaN</td>\n",
       "      <td>NaN</td>\n",
       "      <td>NaN</td>\n",
       "    </tr>\n",
       "    <tr>\n",
       "      <th>75%</th>\n",
       "      <td>NaN</td>\n",
       "      <td>NaN</td>\n",
       "      <td>NaN</td>\n",
       "      <td>NaN</td>\n",
       "      <td>NaN</td>\n",
       "      <td>NaN</td>\n",
       "    </tr>\n",
       "    <tr>\n",
       "      <th>max</th>\n",
       "      <td>NaN</td>\n",
       "      <td>NaN</td>\n",
       "      <td>NaN</td>\n",
       "      <td>NaN</td>\n",
       "      <td>NaN</td>\n",
       "      <td>3182.000000</td>\n",
       "    </tr>\n",
       "  </tbody>\n",
       "</table>\n",
       "</div>"
      ],
      "text/plain": [
       "                                    id_guest  \\\n",
       "count                                  10000   \n",
       "unique                                  9094   \n",
       "top     ae290fb1-f0ce-4589-908c-d74525f0bc78   \n",
       "freq                                       7   \n",
       "mean                                     NaN   \n",
       "std                                      NaN   \n",
       "min                                      NaN   \n",
       "25%                                      NaN   \n",
       "50%                                      NaN   \n",
       "75%                                      NaN   \n",
       "max                                      NaN   \n",
       "\n",
       "                                     id_host  \\\n",
       "count                                  10000   \n",
       "unique                                  3669   \n",
       "top     589ba78b-cd36-4232-9cdd-e39f0acf08f2   \n",
       "freq                                      66   \n",
       "mean                                     NaN   \n",
       "std                                      NaN   \n",
       "min                                      NaN   \n",
       "25%                                      NaN   \n",
       "50%                                      NaN   \n",
       "75%                                      NaN   \n",
       "max                                      NaN   \n",
       "\n",
       "                                  id_listing ts_interaction_first  \\\n",
       "count                                  10000                10000   \n",
       "unique                                  4449                 9851   \n",
       "top     3a5681ef-1121-4f0b-a498-00efe43a9b5e         4/1/13 15:03   \n",
       "freq                                      32                    3   \n",
       "mean                                     NaN                  NaN   \n",
       "std                                      NaN                  NaN   \n",
       "min                                      NaN                  NaN   \n",
       "25%                                      NaN                  NaN   \n",
       "50%                                      NaN                  NaN   \n",
       "75%                                      NaN                  NaN   \n",
       "max                                      NaN                  NaN   \n",
       "\n",
       "       ts_accepted_at_first  m_first_message_length  \n",
       "count                  3363             9883.000000  \n",
       "unique                 2171                     NaN  \n",
       "top                 17:45.0                     NaN  \n",
       "freq                      5                     NaN  \n",
       "mean                    NaN              324.458666  \n",
       "std                     NaN              233.561432  \n",
       "min                     NaN                0.000000  \n",
       "25%                     NaN                     NaN  \n",
       "50%                     NaN                     NaN  \n",
       "75%                     NaN                     NaN  \n",
       "max                     NaN             3182.000000  "
      ]
     },
     "execution_count": 9,
     "metadata": {},
     "output_type": "execute_result"
    }
   ],
   "source": [
    "contacts.describe(include = 'all')"
   ]
  },
  {
   "cell_type": "markdown",
   "metadata": {},
   "source": [
    "Here notice that for \"m_first_message_length\", there is NaN, but there is also 0. In the task description, it says \"m_first_message_length : length of the message the guest sent the host, in characters. If missing then there was no message.\"\n",
    "\n",
    "I'll assume  m_first_message_length == 0 is equivalent to m_first_message_length == NaN"
   ]
  },
  {
   "cell_type": "markdown",
   "metadata": {},
   "source": [
    "check missing value in data"
   ]
  },
  {
   "cell_type": "code",
   "execution_count": 10,
   "metadata": {
    "collapsed": true
   },
   "outputs": [],
   "source": [
    "check_nan(assignments)"
   ]
  },
  {
   "cell_type": "code",
   "execution_count": 11,
   "metadata": {
    "collapsed": false
   },
   "outputs": [
    {
     "name": "stdout",
     "output_type": "stream",
     "text": [
      "ts_accepted_at_first has 6637 missing values\n",
      "m_first_message_length has 117 missing values\n"
     ]
    }
   ],
   "source": [
    "check_nan(contacts)"
   ]
  },
  {
   "cell_type": "markdown",
   "metadata": {},
   "source": [
    "It makes sense that these two have missing values. \n",
    "\n",
    "let's first create a column in contacts table as indicator of the inquiry is accepted"
   ]
  },
  {
   "cell_type": "code",
   "execution_count": 12,
   "metadata": {
    "collapsed": false
   },
   "outputs": [],
   "source": [
    "accepted = np.ones(contacts.shape[0])\n",
    "\n",
    "for i in range(accepted.shape[0]):\n",
    "    if pd.isnull(contacts['ts_accepted_at_first'].iloc[i]):\n",
    "        accepted[i] = 0\n",
    "        \n",
    "contacts['accepted'] = accepted"
   ]
  },
  {
   "cell_type": "code",
   "execution_count": 13,
   "metadata": {
    "collapsed": false
   },
   "outputs": [
    {
     "data": {
      "text/html": [
       "<div>\n",
       "<table border=\"1\" class=\"dataframe\">\n",
       "  <thead>\n",
       "    <tr style=\"text-align: right;\">\n",
       "      <th></th>\n",
       "      <th>id_guest</th>\n",
       "      <th>id_host</th>\n",
       "      <th>id_listing</th>\n",
       "      <th>ts_interaction_first</th>\n",
       "      <th>ts_accepted_at_first</th>\n",
       "      <th>m_first_message_length</th>\n",
       "      <th>accepted</th>\n",
       "    </tr>\n",
       "  </thead>\n",
       "  <tbody>\n",
       "    <tr>\n",
       "      <th>0</th>\n",
       "      <td>f966752c-8533-48b2-af6f-8c6797d2b247</td>\n",
       "      <td>4405ab66-1c68-449b-abd9-1ad1892a6c4d</td>\n",
       "      <td>fe07e0c4-c317-44bc-a82d-5b599a248049</td>\n",
       "      <td>1/1/13 23:04</td>\n",
       "      <td>NaN</td>\n",
       "      <td>230.0</td>\n",
       "      <td>0.0</td>\n",
       "    </tr>\n",
       "    <tr>\n",
       "      <th>1</th>\n",
       "      <td>873f93fb-234c-4cfb-83c7-27ff0e582a8e</td>\n",
       "      <td>aa41b57b-e29f-4c95-bf27-48f27519e419</td>\n",
       "      <td>d47717da-315a-42c2-8888-9b7d4bea8829</td>\n",
       "      <td>1/2/13 0:21</td>\n",
       "      <td>NaN</td>\n",
       "      <td>98.0</td>\n",
       "      <td>0.0</td>\n",
       "    </tr>\n",
       "  </tbody>\n",
       "</table>\n",
       "</div>"
      ],
      "text/plain": [
       "                               id_guest                               id_host  \\\n",
       "0  f966752c-8533-48b2-af6f-8c6797d2b247  4405ab66-1c68-449b-abd9-1ad1892a6c4d   \n",
       "1  873f93fb-234c-4cfb-83c7-27ff0e582a8e  aa41b57b-e29f-4c95-bf27-48f27519e419   \n",
       "\n",
       "                             id_listing ts_interaction_first  \\\n",
       "0  fe07e0c4-c317-44bc-a82d-5b599a248049         1/1/13 23:04   \n",
       "1  d47717da-315a-42c2-8888-9b7d4bea8829          1/2/13 0:21   \n",
       "\n",
       "  ts_accepted_at_first  m_first_message_length  accepted  \n",
       "0                  NaN                   230.0       0.0  \n",
       "1                  NaN                    98.0       0.0  "
      ]
     },
     "execution_count": 13,
     "metadata": {},
     "output_type": "execute_result"
    }
   ],
   "source": [
    "contacts.head(2)"
   ]
  },
  {
   "cell_type": "markdown",
   "metadata": {},
   "source": [
    "# Join the two tables"
   ]
  },
  {
   "cell_type": "markdown",
   "metadata": {},
   "source": [
    "Let's join these two table together. From the description of these two data sets we know: # of unique id_user in assignemnt.csv equals to # of id_guest in contacts.csv, so we should be able to do any kind of table joining. Notice that here we should make sure the id_user == id_guest, index in left table  ==  index in right table.\n",
    "\n",
    "As a result, after joining, we should get a 10000-row table."
   ]
  },
  {
   "cell_type": "code",
   "execution_count": 14,
   "metadata": {
    "collapsed": false
   },
   "outputs": [
    {
     "data": {
      "text/html": [
       "<div>\n",
       "<table border=\"1\" class=\"dataframe\">\n",
       "  <thead>\n",
       "    <tr style=\"text-align: right;\">\n",
       "      <th></th>\n",
       "      <th>id_user</th>\n",
       "      <th>ab</th>\n",
       "      <th>id_guest</th>\n",
       "      <th>id_host</th>\n",
       "      <th>id_listing</th>\n",
       "      <th>ts_interaction_first</th>\n",
       "      <th>ts_accepted_at_first</th>\n",
       "      <th>m_first_message_length</th>\n",
       "      <th>accepted</th>\n",
       "    </tr>\n",
       "  </thead>\n",
       "  <tbody>\n",
       "    <tr>\n",
       "      <th>0</th>\n",
       "      <td>f966752c-8533-48b2-af6f-8c6797d2b247</td>\n",
       "      <td>treatment</td>\n",
       "      <td>f966752c-8533-48b2-af6f-8c6797d2b247</td>\n",
       "      <td>4405ab66-1c68-449b-abd9-1ad1892a6c4d</td>\n",
       "      <td>fe07e0c4-c317-44bc-a82d-5b599a248049</td>\n",
       "      <td>1/1/13 23:04</td>\n",
       "      <td>NaN</td>\n",
       "      <td>230.0</td>\n",
       "      <td>0.0</td>\n",
       "    </tr>\n",
       "    <tr>\n",
       "      <th>1</th>\n",
       "      <td>873f93fb-234c-4cfb-83c7-27ff0e582a8e</td>\n",
       "      <td>treatment</td>\n",
       "      <td>873f93fb-234c-4cfb-83c7-27ff0e582a8e</td>\n",
       "      <td>aa41b57b-e29f-4c95-bf27-48f27519e419</td>\n",
       "      <td>d47717da-315a-42c2-8888-9b7d4bea8829</td>\n",
       "      <td>1/2/13 0:21</td>\n",
       "      <td>NaN</td>\n",
       "      <td>98.0</td>\n",
       "      <td>0.0</td>\n",
       "    </tr>\n",
       "  </tbody>\n",
       "</table>\n",
       "</div>"
      ],
      "text/plain": [
       "                                id_user         ab  \\\n",
       "0  f966752c-8533-48b2-af6f-8c6797d2b247  treatment   \n",
       "1  873f93fb-234c-4cfb-83c7-27ff0e582a8e  treatment   \n",
       "\n",
       "                               id_guest                               id_host  \\\n",
       "0  f966752c-8533-48b2-af6f-8c6797d2b247  4405ab66-1c68-449b-abd9-1ad1892a6c4d   \n",
       "1  873f93fb-234c-4cfb-83c7-27ff0e582a8e  aa41b57b-e29f-4c95-bf27-48f27519e419   \n",
       "\n",
       "                             id_listing ts_interaction_first  \\\n",
       "0  fe07e0c4-c317-44bc-a82d-5b599a248049         1/1/13 23:04   \n",
       "1  d47717da-315a-42c2-8888-9b7d4bea8829          1/2/13 0:21   \n",
       "\n",
       "  ts_accepted_at_first  m_first_message_length  accepted  \n",
       "0                  NaN                   230.0       0.0  \n",
       "1                  NaN                    98.0       0.0  "
      ]
     },
     "execution_count": 14,
     "metadata": {},
     "output_type": "execute_result"
    }
   ],
   "source": [
    "merged = pd.merge(assignments, contacts, left_on = 'id_user', right_on = 'id_guest', how = 'inner', left_index = True, right_index = True)\n",
    "merged.head(2)"
   ]
  },
  {
   "cell_type": "code",
   "execution_count": 15,
   "metadata": {
    "collapsed": false,
    "scrolled": true
   },
   "outputs": [
    {
     "data": {
      "text/html": [
       "<div>\n",
       "<table border=\"1\" class=\"dataframe\">\n",
       "  <thead>\n",
       "    <tr style=\"text-align: right;\">\n",
       "      <th></th>\n",
       "      <th>id_user</th>\n",
       "      <th>ab</th>\n",
       "      <th>id_guest</th>\n",
       "      <th>id_host</th>\n",
       "      <th>id_listing</th>\n",
       "      <th>ts_interaction_first</th>\n",
       "      <th>ts_accepted_at_first</th>\n",
       "      <th>m_first_message_length</th>\n",
       "      <th>accepted</th>\n",
       "    </tr>\n",
       "  </thead>\n",
       "  <tbody>\n",
       "    <tr>\n",
       "      <th>count</th>\n",
       "      <td>10000</td>\n",
       "      <td>10000</td>\n",
       "      <td>10000</td>\n",
       "      <td>10000</td>\n",
       "      <td>10000</td>\n",
       "      <td>10000</td>\n",
       "      <td>3363</td>\n",
       "      <td>9883.000000</td>\n",
       "      <td>10000.000000</td>\n",
       "    </tr>\n",
       "    <tr>\n",
       "      <th>unique</th>\n",
       "      <td>9094</td>\n",
       "      <td>2</td>\n",
       "      <td>9094</td>\n",
       "      <td>3669</td>\n",
       "      <td>4449</td>\n",
       "      <td>9851</td>\n",
       "      <td>2171</td>\n",
       "      <td>NaN</td>\n",
       "      <td>NaN</td>\n",
       "    </tr>\n",
       "    <tr>\n",
       "      <th>top</th>\n",
       "      <td>ae290fb1-f0ce-4589-908c-d74525f0bc78</td>\n",
       "      <td>control</td>\n",
       "      <td>ae290fb1-f0ce-4589-908c-d74525f0bc78</td>\n",
       "      <td>589ba78b-cd36-4232-9cdd-e39f0acf08f2</td>\n",
       "      <td>3a5681ef-1121-4f0b-a498-00efe43a9b5e</td>\n",
       "      <td>4/1/13 15:03</td>\n",
       "      <td>17:45.0</td>\n",
       "      <td>NaN</td>\n",
       "      <td>NaN</td>\n",
       "    </tr>\n",
       "    <tr>\n",
       "      <th>freq</th>\n",
       "      <td>7</td>\n",
       "      <td>5007</td>\n",
       "      <td>7</td>\n",
       "      <td>66</td>\n",
       "      <td>32</td>\n",
       "      <td>3</td>\n",
       "      <td>5</td>\n",
       "      <td>NaN</td>\n",
       "      <td>NaN</td>\n",
       "    </tr>\n",
       "    <tr>\n",
       "      <th>mean</th>\n",
       "      <td>NaN</td>\n",
       "      <td>NaN</td>\n",
       "      <td>NaN</td>\n",
       "      <td>NaN</td>\n",
       "      <td>NaN</td>\n",
       "      <td>NaN</td>\n",
       "      <td>NaN</td>\n",
       "      <td>324.458666</td>\n",
       "      <td>0.336300</td>\n",
       "    </tr>\n",
       "    <tr>\n",
       "      <th>std</th>\n",
       "      <td>NaN</td>\n",
       "      <td>NaN</td>\n",
       "      <td>NaN</td>\n",
       "      <td>NaN</td>\n",
       "      <td>NaN</td>\n",
       "      <td>NaN</td>\n",
       "      <td>NaN</td>\n",
       "      <td>233.561432</td>\n",
       "      <td>0.472467</td>\n",
       "    </tr>\n",
       "    <tr>\n",
       "      <th>min</th>\n",
       "      <td>NaN</td>\n",
       "      <td>NaN</td>\n",
       "      <td>NaN</td>\n",
       "      <td>NaN</td>\n",
       "      <td>NaN</td>\n",
       "      <td>NaN</td>\n",
       "      <td>NaN</td>\n",
       "      <td>0.000000</td>\n",
       "      <td>0.000000</td>\n",
       "    </tr>\n",
       "    <tr>\n",
       "      <th>25%</th>\n",
       "      <td>NaN</td>\n",
       "      <td>NaN</td>\n",
       "      <td>NaN</td>\n",
       "      <td>NaN</td>\n",
       "      <td>NaN</td>\n",
       "      <td>NaN</td>\n",
       "      <td>NaN</td>\n",
       "      <td>NaN</td>\n",
       "      <td>0.000000</td>\n",
       "    </tr>\n",
       "    <tr>\n",
       "      <th>50%</th>\n",
       "      <td>NaN</td>\n",
       "      <td>NaN</td>\n",
       "      <td>NaN</td>\n",
       "      <td>NaN</td>\n",
       "      <td>NaN</td>\n",
       "      <td>NaN</td>\n",
       "      <td>NaN</td>\n",
       "      <td>NaN</td>\n",
       "      <td>0.000000</td>\n",
       "    </tr>\n",
       "    <tr>\n",
       "      <th>75%</th>\n",
       "      <td>NaN</td>\n",
       "      <td>NaN</td>\n",
       "      <td>NaN</td>\n",
       "      <td>NaN</td>\n",
       "      <td>NaN</td>\n",
       "      <td>NaN</td>\n",
       "      <td>NaN</td>\n",
       "      <td>NaN</td>\n",
       "      <td>1.000000</td>\n",
       "    </tr>\n",
       "    <tr>\n",
       "      <th>max</th>\n",
       "      <td>NaN</td>\n",
       "      <td>NaN</td>\n",
       "      <td>NaN</td>\n",
       "      <td>NaN</td>\n",
       "      <td>NaN</td>\n",
       "      <td>NaN</td>\n",
       "      <td>NaN</td>\n",
       "      <td>3182.000000</td>\n",
       "      <td>1.000000</td>\n",
       "    </tr>\n",
       "  </tbody>\n",
       "</table>\n",
       "</div>"
      ],
      "text/plain": [
       "                                     id_user       ab  \\\n",
       "count                                  10000    10000   \n",
       "unique                                  9094        2   \n",
       "top     ae290fb1-f0ce-4589-908c-d74525f0bc78  control   \n",
       "freq                                       7     5007   \n",
       "mean                                     NaN      NaN   \n",
       "std                                      NaN      NaN   \n",
       "min                                      NaN      NaN   \n",
       "25%                                      NaN      NaN   \n",
       "50%                                      NaN      NaN   \n",
       "75%                                      NaN      NaN   \n",
       "max                                      NaN      NaN   \n",
       "\n",
       "                                    id_guest  \\\n",
       "count                                  10000   \n",
       "unique                                  9094   \n",
       "top     ae290fb1-f0ce-4589-908c-d74525f0bc78   \n",
       "freq                                       7   \n",
       "mean                                     NaN   \n",
       "std                                      NaN   \n",
       "min                                      NaN   \n",
       "25%                                      NaN   \n",
       "50%                                      NaN   \n",
       "75%                                      NaN   \n",
       "max                                      NaN   \n",
       "\n",
       "                                     id_host  \\\n",
       "count                                  10000   \n",
       "unique                                  3669   \n",
       "top     589ba78b-cd36-4232-9cdd-e39f0acf08f2   \n",
       "freq                                      66   \n",
       "mean                                     NaN   \n",
       "std                                      NaN   \n",
       "min                                      NaN   \n",
       "25%                                      NaN   \n",
       "50%                                      NaN   \n",
       "75%                                      NaN   \n",
       "max                                      NaN   \n",
       "\n",
       "                                  id_listing ts_interaction_first  \\\n",
       "count                                  10000                10000   \n",
       "unique                                  4449                 9851   \n",
       "top     3a5681ef-1121-4f0b-a498-00efe43a9b5e         4/1/13 15:03   \n",
       "freq                                      32                    3   \n",
       "mean                                     NaN                  NaN   \n",
       "std                                      NaN                  NaN   \n",
       "min                                      NaN                  NaN   \n",
       "25%                                      NaN                  NaN   \n",
       "50%                                      NaN                  NaN   \n",
       "75%                                      NaN                  NaN   \n",
       "max                                      NaN                  NaN   \n",
       "\n",
       "       ts_accepted_at_first  m_first_message_length      accepted  \n",
       "count                  3363             9883.000000  10000.000000  \n",
       "unique                 2171                     NaN           NaN  \n",
       "top                 17:45.0                     NaN           NaN  \n",
       "freq                      5                     NaN           NaN  \n",
       "mean                    NaN              324.458666      0.336300  \n",
       "std                     NaN              233.561432      0.472467  \n",
       "min                     NaN                0.000000      0.000000  \n",
       "25%                     NaN                     NaN      0.000000  \n",
       "50%                     NaN                     NaN      0.000000  \n",
       "75%                     NaN                     NaN      1.000000  \n",
       "max                     NaN             3182.000000      1.000000  "
      ]
     },
     "execution_count": 15,
     "metadata": {},
     "output_type": "execute_result"
    }
   ],
   "source": [
    "merged.describe(include = 'all')"
   ]
  },
  {
   "cell_type": "markdown",
   "metadata": {},
   "source": [
    "From the description we can see the joined table looks good in terms of consistency"
   ]
  },
  {
   "cell_type": "markdown",
   "metadata": {},
   "source": [
    "# Test the significance of treatment effect"
   ]
  },
  {
   "cell_type": "markdown",
   "metadata": {},
   "source": [
    "Now let's do a two sample t-test to see whether the treatment worked"
   ]
  },
  {
   "cell_type": "code",
   "execution_count": 16,
   "metadata": {
    "collapsed": false
   },
   "outputs": [
    {
     "data": {
      "text/plain": [
       "(0.13316280769602754, 0.89406730395210166)"
      ]
     },
     "execution_count": 16,
     "metadata": {},
     "output_type": "execute_result"
    }
   ],
   "source": [
    "result_control = merged[merged['ab']=='control']['accepted']\n",
    "result_treatment = merged[merged['ab']=='treatment']['accepted']\n",
    "\n",
    "ttest_ind(result_control,result_treatment)"
   ]
  },
  {
   "cell_type": "code",
   "execution_count": 17,
   "metadata": {
    "collapsed": false
   },
   "outputs": [
    {
     "data": {
      "text/html": [
       "<div>\n",
       "<table border=\"1\" class=\"dataframe\">\n",
       "  <thead>\n",
       "    <tr style=\"text-align: right;\">\n",
       "      <th></th>\n",
       "      <th>accepted</th>\n",
       "    </tr>\n",
       "    <tr>\n",
       "      <th>ab</th>\n",
       "      <th></th>\n",
       "    </tr>\n",
       "  </thead>\n",
       "  <tbody>\n",
       "    <tr>\n",
       "      <th>control</th>\n",
       "      <td>0.336928</td>\n",
       "    </tr>\n",
       "    <tr>\n",
       "      <th>treatment</th>\n",
       "      <td>0.335670</td>\n",
       "    </tr>\n",
       "  </tbody>\n",
       "</table>\n",
       "</div>"
      ],
      "text/plain": [
       "           accepted\n",
       "ab                 \n",
       "control    0.336928\n",
       "treatment  0.335670"
      ]
     },
     "execution_count": 17,
     "metadata": {},
     "output_type": "execute_result"
    }
   ],
   "source": [
    "merged.groupby('ab').agg({'accepted':np.mean})"
   ]
  },
  {
   "cell_type": "markdown",
   "metadata": {},
   "source": [
    "The p value is 0.89406730395210166, we did not see any significance of the treatment for the whole population. \n",
    "\n",
    "However,let's not be so certain.\n",
    "\n",
    "The size of control and treatment group is balanced and large enough, but we should check if there is any bias in the group assignment and the testers' behaviors.\n",
    "\n",
    "By fitting a Random Forest and let the assignment result be the label, we can cheak the potential problem mentioned above: if there is no bias in the assignment, after the classifier is fitted, there should be no significant difference in the feature importances."
   ]
  },
  {
   "cell_type": "markdown",
   "metadata": {},
   "source": [
    "# Further discussion about the potential experimental bias"
   ]
  },
  {
   "cell_type": "markdown",
   "metadata": {},
   "source": [
    "as mentioned above, a new data set will be constructed with 'id_user','id_guest','id_listing','m_first_message_length' as predictor and 'ab' as label"
   ]
  },
  {
   "cell_type": "code",
   "execution_count": 18,
   "metadata": {
    "collapsed": false
   },
   "outputs": [
    {
     "name": "stderr",
     "output_type": "stream",
     "text": [
      "/usr/local/lib/python2.7/site-packages/ipykernel/__main__.py:12: SettingWithCopyWarning: \n",
      "A value is trying to be set on a copy of a slice from a DataFrame.\n",
      "Try using .loc[row_indexer,col_indexer] = value instead\n",
      "\n",
      "See the caveats in the documentation: http://pandas.pydata.org/pandas-docs/stable/indexing.html#indexing-view-versus-copy\n"
     ]
    }
   ],
   "source": [
    "# just copy the merged data set to be safe\n",
    "merged_2 = merged.copy()\n",
    "merged_2['m_first_message_length'] = merged_2['m_first_message_length'].replace(np.nan, 0)\n",
    "merged_2['ab'] = merged_2['ab'].replace('control', 0)\n",
    "merged_2['ab'] = merged_2['ab'].replace('treatment', 1)\n",
    "\n",
    "test_features = merged_2[['id_user','id_guest','id_listing','m_first_message_length','ab']]\n",
    "\n",
    "for c in ['id_user','id_guest','id_listing']:\n",
    "    le = preprocessing.LabelEncoder()\n",
    "    new = le.fit_transform(test_features[c])\n",
    "    test_features[c+'_new'] = new"
   ]
  },
  {
   "cell_type": "code",
   "execution_count": 19,
   "metadata": {
    "collapsed": false
   },
   "outputs": [],
   "source": [
    "test_features = test_features.drop(['id_user','id_guest','id_listing'], axis = 1)"
   ]
  },
  {
   "cell_type": "code",
   "execution_count": 20,
   "metadata": {
    "collapsed": false
   },
   "outputs": [
    {
     "data": {
      "text/html": [
       "<div>\n",
       "<table border=\"1\" class=\"dataframe\">\n",
       "  <thead>\n",
       "    <tr style=\"text-align: right;\">\n",
       "      <th></th>\n",
       "      <th>m_first_message_length</th>\n",
       "      <th>ab</th>\n",
       "      <th>id_user_new</th>\n",
       "      <th>id_guest_new</th>\n",
       "      <th>id_listing_new</th>\n",
       "    </tr>\n",
       "  </thead>\n",
       "  <tbody>\n",
       "    <tr>\n",
       "      <th>0</th>\n",
       "      <td>230.0</td>\n",
       "      <td>1</td>\n",
       "      <td>8839</td>\n",
       "      <td>8839</td>\n",
       "      <td>4424</td>\n",
       "    </tr>\n",
       "    <tr>\n",
       "      <th>1</th>\n",
       "      <td>98.0</td>\n",
       "      <td>1</td>\n",
       "      <td>4856</td>\n",
       "      <td>4856</td>\n",
       "      <td>3692</td>\n",
       "    </tr>\n",
       "    <tr>\n",
       "      <th>2</th>\n",
       "      <td>278.0</td>\n",
       "      <td>0</td>\n",
       "      <td>4115</td>\n",
       "      <td>4115</td>\n",
       "      <td>2982</td>\n",
       "    </tr>\n",
       "    <tr>\n",
       "      <th>3</th>\n",
       "      <td>785.0</td>\n",
       "      <td>0</td>\n",
       "      <td>368</td>\n",
       "      <td>368</td>\n",
       "      <td>1987</td>\n",
       "    </tr>\n",
       "    <tr>\n",
       "      <th>4</th>\n",
       "      <td>69.0</td>\n",
       "      <td>0</td>\n",
       "      <td>4000</td>\n",
       "      <td>4000</td>\n",
       "      <td>2620</td>\n",
       "    </tr>\n",
       "  </tbody>\n",
       "</table>\n",
       "</div>"
      ],
      "text/plain": [
       "   m_first_message_length  ab  id_user_new  id_guest_new  id_listing_new\n",
       "0                   230.0   1         8839          8839            4424\n",
       "1                    98.0   1         4856          4856            3692\n",
       "2                   278.0   0         4115          4115            2982\n",
       "3                   785.0   0          368           368            1987\n",
       "4                    69.0   0         4000          4000            2620"
      ]
     },
     "execution_count": 20,
     "metadata": {},
     "output_type": "execute_result"
    }
   ],
   "source": [
    "test_features.head()"
   ]
  },
  {
   "cell_type": "code",
   "execution_count": 21,
   "metadata": {
    "collapsed": false
   },
   "outputs": [],
   "source": [
    "rf = RandomForestClassifier().fit(test_features.ix[:,test_features.columns != 'ab'],test_features['ab'])\n",
    "importance = rf.feature_importances_"
   ]
  },
  {
   "cell_type": "code",
   "execution_count": 22,
   "metadata": {
    "collapsed": false
   },
   "outputs": [
    {
     "data": {
      "text/plain": [
       "<matplotlib.axes._subplots.AxesSubplot at 0x10f16c350>"
      ]
     },
     "execution_count": 22,
     "metadata": {},
     "output_type": "execute_result"
    },
    {
     "data": {
      "image/png": "[encoded data removed]",
      "text/plain": [
       "<matplotlib.figure.Figure at 0x10f16cd50>"
      ]
     },
     "metadata": {},
     "output_type": "display_data"
    }
   ],
   "source": [
    "pd.DataFrame({'feature':list(test_features.columns[test_features.columns != 'ab']),'importance':importance}).plot(x = 'feature',kind = 'bar')"
   ]
  },
  {
   "cell_type": "markdown",
   "metadata": {},
   "source": [
    "The importance of these four features are pretty even and (probably there is no bias). If we are about to doubt this:\n",
    "\n",
    "There might be a little bias in the m_first_message_length, let's check the acceptance rate by m_first_message_length.\n",
    "\n",
    "let's partition the data by m_first_message_length and :\n",
    "\n",
    "1.check the group assignment\n",
    "\n",
    "2.do t-test in each group\n",
    "\n",
    "Side note: here I used sklearn.preprocesing.labelencoder to convert the categorical variable to numeric for the sake of computational cost. It would be more robust to use pd.get_dummies() becasue in this way, no order information will be introduced to the features."
   ]
  },
  {
   "cell_type": "code",
   "execution_count": 23,
   "metadata": {
    "collapsed": false
   },
   "outputs": [
    {
     "name": "stdout",
     "output_type": "stream",
     "text": [
      "message length range:  0  to  200\n",
      "control-test ratio:  0.772063120982\n",
      " \n",
      "message length range:  200  to  400\n",
      "control-test ratio:  1.00669412976\n",
      " \n",
      "message length range:  400  to  600\n",
      "control-test ratio:  0.978971962617\n",
      " \n",
      "message length range:  600  to  800\n",
      "control-test ratio:  1.01666666667\n",
      " \n",
      "message length range:  800  to  1000\n",
      "control-test ratio:  1.25742574257\n",
      " \n",
      "message length range:  1000  to  1200\n",
      "control-test ratio:  1.13157894737\n",
      " \n",
      "message length range:  1200  to  1400\n",
      "control-test ratio:  0.96\n",
      " \n",
      "message length range:  1400  to  1600\n",
      "control-test ratio:  1.71428571429\n",
      " \n",
      "message length range:  1600  to  1800\n",
      "control-test ratio:  1.11111111111\n",
      " \n"
     ]
    }
   ],
   "source": [
    "ratios = []\n",
    "for i in range(9):\n",
    "    data = merged_2[(merged_2['m_first_message_length'] > (200*i)) & (merged_2['m_first_message_length'] <= (200*(i+1)))]  \n",
    "    \n",
    "    print \"message length range: \",200*i,' to ',200*(i+1)\n",
    "    print 'control-test ratio: ',data.groupby('ab').size()[0]/float(data.groupby('ab').size()[1])\n",
    "    print \" \"\n",
    "    ratios.append(data.groupby('ab').size()[0]/float(data.groupby('ab').size()[1]))"
   ]
  },
  {
   "cell_type": "markdown",
   "metadata": {},
   "source": [
    "In the range of (1400, 1600), the experiment group is highly unbalanced."
   ]
  },
  {
   "cell_type": "code",
   "execution_count": 24,
   "metadata": {
    "collapsed": false
   },
   "outputs": [
    {
     "name": "stdout",
     "output_type": "stream",
     "text": [
      "message length range:  0  to  200\n",
      "(4.3711526354820895, 1.2774930897577355e-05)\n",
      " \n",
      "message length range:  200  to  400\n",
      "(-0.93501732695006157, 0.349837333208875)\n",
      " \n",
      "message length range:  400  to  600\n",
      "(1.69577641784315, 0.090112197835971727)\n",
      " \n",
      "message length range:  600  to  800\n",
      "(-2.2904990367981428, 0.022336669534817142)\n",
      " \n",
      "message length range:  800  to  1000\n",
      "(0.83608741604720949, 0.40398883266794205)\n",
      " \n",
      "message length range:  1000  to  1200\n",
      "(-2.4209262544175587, 0.017774778707822934)\n",
      " \n",
      "message length range:  1200  to  1400\n",
      "(-0.079700751301825426, 0.93681365636911273)\n",
      " \n",
      "message length range:  1400  to  1600\n",
      "(0.047959302640698934, 0.96230761125697473)\n",
      " \n",
      "message length range:  1600  to  1800\n",
      "(0.62347093432908818, 0.54125072678430397)\n",
      " \n"
     ]
    }
   ],
   "source": [
    "pvalue = []\n",
    "for i in range(9):\n",
    "    data = merged_2[(merged_2['m_first_message_length'] > (200*i)) & (merged_2['m_first_message_length'] <= (200*(i+1)))]\n",
    "    result = ttest_ind(data[data['ab']==1]['accepted'],data[data['ab']==0]['accepted'])\n",
    "    print \"message length range: \",200*i,' to ',200*(i+1)\n",
    "    print result\n",
    "    print \" \"\n",
    "    pvalue.append(result[1])"
   ]
  },
  {
   "cell_type": "markdown",
   "metadata": {},
   "source": [
    "plot them together"
   ]
  },
  {
   "cell_type": "code",
   "execution_count": 25,
   "metadata": {
    "collapsed": false
   },
   "outputs": [
    {
     "data": {
      "text/plain": [
       "<matplotlib.text.Text at 0x110210cd0>"
      ]
     },
     "execution_count": 25,
     "metadata": {},
     "output_type": "execute_result"
    },
    {
     "data": {
      "image/png": "[encoded data removed]",
      "text/plain": [
       "<matplotlib.figure.Figure at 0x10fca9490>"
      ]
     },
     "metadata": {},
     "output_type": "display_data"
    }
   ],
   "source": [
    "pd.DataFrame({'length':np.array(range(9))*200, 'p value': pvalue,'control-test-ration': ratios}).plot(x ='length', y = ['p value','control-test-ration'])\n",
    "plt.title('test significance vs first message length')"
   ]
  },
  {
   "cell_type": "markdown",
   "metadata": {},
   "source": [
    "The two plots above are consistent in the sense that there is a \"peak\" around length 1400 in both plots.\n",
    "\n",
    "Also notice that, when the control-test is fairly balanced, the difference appears to be more \"significant\" than the time when control-test is not balanced.\n",
    "\n",
    "It seems that message_length is playing an interesting role for hosts when they decide whether to accept the inquiry"
   ]
  },
  {
   "cell_type": "code",
   "execution_count": 26,
   "metadata": {
    "collapsed": false
   },
   "outputs": [
    {
     "data": {
      "text/html": [
       "<div>\n",
       "<table border=\"1\" class=\"dataframe\">\n",
       "  <thead>\n",
       "    <tr style=\"text-align: right;\">\n",
       "      <th></th>\n",
       "      <th>m_first_message_length</th>\n",
       "    </tr>\n",
       "    <tr>\n",
       "      <th>ab</th>\n",
       "      <th></th>\n",
       "    </tr>\n",
       "  </thead>\n",
       "  <tbody>\n",
       "    <tr>\n",
       "      <th>0</th>\n",
       "      <td>316.888157</td>\n",
       "    </tr>\n",
       "    <tr>\n",
       "      <th>1</th>\n",
       "      <td>324.447426</td>\n",
       "    </tr>\n",
       "  </tbody>\n",
       "</table>\n",
       "</div>"
      ],
      "text/plain": [
       "    m_first_message_length\n",
       "ab                        \n",
       "0               316.888157\n",
       "1               324.447426"
      ]
     },
     "execution_count": 26,
     "metadata": {},
     "output_type": "execute_result"
    }
   ],
   "source": [
    "merged_2.groupby('ab').agg({'m_first_message_length':np.mean})"
   ]
  },
  {
   "cell_type": "code",
   "execution_count": 27,
   "metadata": {
    "collapsed": false
   },
   "outputs": [
    {
     "data": {
      "text/plain": [
       "ab\n",
       "0    369\n",
       "dtype: int64"
      ]
     },
     "execution_count": 27,
     "metadata": {},
     "output_type": "execute_result"
    }
   ],
   "source": [
    "merged_2[merged_2['m_first_message_length']==0].groupby('ab').size()"
   ]
  },
  {
   "cell_type": "markdown",
   "metadata": {},
   "source": [
    "All the users who did not wrote an inquiry message were in the control group, and there is a difference in the first_message_length for control and treatment groups"
   ]
  },
  {
   "cell_type": "markdown",
   "metadata": {},
   "source": [
    "# Conclusion"
   ]
  },
  {
   "cell_type": "markdown",
   "metadata": {},
   "source": [
    "1.what happens to the experience of contacting and booking a place on Airbnb when the guest is required to write a message like this?\n",
    "\n",
    "From the two-sample t-test as a whole, we see no significant effect of this requirement on acceptance rate.\n",
    "However, if we look at the A/B test in detail, we can find that \"m_first_message_length\" is also affecting the test result. \n",
    "First, it introduced bias to the experiment if we patition the whole by m_first_message_length;\n",
    "Second, it is associated with the significance of the test.\n"
   ]
  },
  {
   "cell_type": "markdown",
   "metadata": {},
   "source": [
    "2.We are also looking for suggestions for evaluating the future of this change?\n",
    "\n",
    "As mentioned above, further experiment should be designed to exclude the potential effect of this variable."
   ]
  },
  {
   "cell_type": "markdown",
   "metadata": {},
   "source": [
    "3.Should we launch the experiment to everyone or stop it?\n",
    "\n",
    "We should not becasue: \n",
    "a. the effect is not significant in the test; \n",
    "b.we have not figured out the interaction between it and other factors. If we launch it to everyone, we might get a different picture. \n",
    "c. it's not worth it given the insignificance of the change and extra inconvenience brought to users."
   ]
  },
  {
   "cell_type": "markdown",
   "metadata": {},
   "source": [
    "4.How would you explain the results and the decision to a non-technical person, who is smart but not a statistician?\n",
    "\n",
    "I would not address the concept of \"p-value\", but only make some plots to show that there is no \"huge\" difference of acceptance before and after the treatment. I'll use words like:\n",
    "\n",
    "\"There is no obvious change before and after treatment\".\n",
    "\"The acceptance rate for both groups are similar, with one being 0.336928, the other being 0.335670\".\n",
    "\"In the A/B test we conducted, there is other factor that might affect the test result. It should be controlled, but we did not. \""
   ]
  }
 ],
 "metadata": {
  "kernelspec": {
   "display_name": "Python 2",
   "language": "python",
   "name": "python2"
  },
  "language_info": {
   "codemirror_mode": {
    "name": "ipython",
    "version": 2
   },
   "file_extension": ".py",
   "mimetype": "text/x-python",
   "name": "python",
   "nbconvert_exporter": "python",
   "pygments_lexer": "ipython2",
   "version": "2.7.8"
  }
 },
 "nbformat": 4,
 "nbformat_minor": 0
}
